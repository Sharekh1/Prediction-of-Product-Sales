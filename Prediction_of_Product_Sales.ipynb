{
  "nbformat": 4,
  "nbformat_minor": 0,
  "metadata": {
    "colab": {
      "provenance": [],
      "authorship_tag": "ABX9TyMtaro4vYILdnsPPEE/lb5y",
      "include_colab_link": true
    },
    "kernelspec": {
      "name": "python3",
      "display_name": "Python 3"
    },
    "language_info": {
      "name": "python"
    }
  },
  "cells": [
    {
      "cell_type": "markdown",
      "metadata": {
        "id": "view-in-github",
        "colab_type": "text"
      },
      "source": [
        "<a href=\"https://colab.research.google.com/github/Sharekh1/Prediction-of-Product-Sales/blob/main/Prediction_of_Product_Sales.ipynb\" target=\"_parent\"><img src=\"https://colab.research.google.com/assets/colab-badge.svg\" alt=\"Open In Colab\"/></a>"
      ]
    },
    {
      "cell_type": "markdown",
      "source": [
        "# Prediction of Product Sales"
      ],
      "metadata": {
        "id": "k3pHxVA9kHDQ"
      }
    },
    {
      "cell_type": "markdown",
      "source": [
        "- Author: Mahmoud Abusharekh"
      ],
      "metadata": {
        "id": "zftUa_K0mycN"
      }
    },
    {
      "cell_type": "markdown",
      "source": [
        "## Project Overview\n"
      ],
      "metadata": {
        "id": "MghSq_BJlbXT"
      }
    },
    {
      "cell_type": "markdown",
      "source": [
        "This project focuses on predicting sales of food items at various stores"
      ],
      "metadata": {
        "id": "NK5BC4bym4Ow"
      }
    },
    {
      "cell_type": "markdown",
      "source": [
        "## Load and Inspect Data\n"
      ],
      "metadata": {
        "id": "V7LQ8yIRl7f1"
      }
    },
    {
      "cell_type": "code",
      "source": [],
      "metadata": {
        "id": "26bjUYmhmWkp"
      },
      "execution_count": null,
      "outputs": []
    },
    {
      "cell_type": "markdown",
      "source": [
        "## Clean data"
      ],
      "metadata": {
        "id": "qlMm3AzxmXSj"
      }
    },
    {
      "cell_type": "code",
      "source": [],
      "metadata": {
        "id": "VvpjuVb2mbpN"
      },
      "execution_count": null,
      "outputs": []
    },
    {
      "cell_type": "markdown",
      "source": [
        "## Exploratory Data Analysis"
      ],
      "metadata": {
        "id": "i_yloERDmb3_"
      }
    },
    {
      "cell_type": "code",
      "source": [],
      "metadata": {
        "id": "YGgGt6R0mj1v"
      },
      "execution_count": null,
      "outputs": []
    },
    {
      "cell_type": "markdown",
      "source": [
        "## Feature Inspection"
      ],
      "metadata": {
        "id": "E53UBz4imm03"
      }
    },
    {
      "cell_type": "code",
      "source": [],
      "metadata": {
        "id": "PKdIxBcUmoW7"
      },
      "execution_count": null,
      "outputs": []
    }
  ]
}